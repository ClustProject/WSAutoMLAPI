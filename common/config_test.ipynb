{
 "cells": [
  {
   "cell_type": "code",
   "execution_count": 3,
   "id": "26e32f04-d6c3-43bc-a8a2-3733fc025f04",
   "metadata": {},
   "outputs": [],
   "source": [
    "from preprocessing import Preprocessing"
   ]
  },
  {
   "cell_type": "code",
   "execution_count": 1,
   "id": "1e34876b-81e4-45df-9ca3-18b2705991e9",
   "metadata": {},
   "outputs": [],
   "source": [
    "import config"
   ]
  },
  {
   "cell_type": "code",
   "execution_count": 2,
   "id": "9c2c9950-0755-47a3-afee-8513569d0d37",
   "metadata": {},
   "outputs": [],
   "source": [
    "user_input_data = config.lstm_model_parameter['parameter']"
   ]
  },
  {
   "cell_type": "code",
   "execution_count": 12,
   "id": "94c7940f-b123-4144-8757-d4d0686706bd",
   "metadata": {},
   "outputs": [],
   "source": [
    "from keras.layers import Input, Dense, LSTM\n",
    "from keras.models import Model\n",
    "from keras.callbacks import ModelCheckpoint, EarlyStopping\n",
    "\n",
    "def get_keras_model(config):\n",
    "    input1 = Input(shape=(config['time_step'], config['input_size']))\n",
    "    lstm = input1\n",
    "    for i in range(config['lstm_layers']):\n",
    "        lstm = LSTM(units=config['hidden_size'],dropout=config['dropout'],return_sequences=True)(lstm)\n",
    "    output = Dense(config['output_size'])(lstm)\n",
    "    model = Model(input1, output)\n",
    "    model.compile(loss='mse', optimizer='adam', metrics=[\"mae\"])     # metrics=[\"mae\"]\n",
    "    return model"
   ]
  },
  {
   "cell_type": "code",
   "execution_count": 13,
   "id": "6252a87e-732c-4f28-9ad8-b2e0130e41c5",
   "metadata": {},
   "outputs": [],
   "source": [
    "model = get_keras_model(user_input_data)"
   ]
  },
  {
   "cell_type": "code",
   "execution_count": 14,
   "id": "996b3221-2a9d-4d72-9cad-affa2e23059a",
   "metadata": {},
   "outputs": [
    {
     "name": "stdout",
     "output_type": "stream",
     "text": [
      "Model: \"model_4\"\n",
      "_________________________________________________________________\n",
      " Layer (type)                Output Shape              Param #   \n",
      "=================================================================\n",
      " input_5 (InputLayer)        [(None, 1, 1)]            0         \n",
      "                                                                 \n",
      " lstm_12 (LSTM)              (None, 1, 64)             16896     \n",
      "                                                                 \n",
      " lstm_13 (LSTM)              (None, 1, 64)             33024     \n",
      "                                                                 \n",
      " lstm_14 (LSTM)              (None, 1, 64)             33024     \n",
      "                                                                 \n",
      " dense_4 (Dense)             (None, 1, 1)              65        \n",
      "                                                                 \n",
      "=================================================================\n",
      "Total params: 83,009\n",
      "Trainable params: 83,009\n",
      "Non-trainable params: 0\n",
      "_________________________________________________________________\n"
     ]
    }
   ],
   "source": [
    "model.summary()"
   ]
  },
  {
   "cell_type": "code",
   "execution_count": null,
   "id": "7597a855-5e05-4389-bfd5-ecd7035ba874",
   "metadata": {},
   "outputs": [],
   "source": []
  }
 ],
 "metadata": {
  "kernelspec": {
   "display_name": "Python 3",
   "language": "python",
   "name": "python3"
  },
  "language_info": {
   "codemirror_mode": {
    "name": "ipython",
    "version": 3
   },
   "file_extension": ".py",
   "mimetype": "text/x-python",
   "name": "python",
   "nbconvert_exporter": "python",
   "pygments_lexer": "ipython3",
   "version": "3.8.8"
  }
 },
 "nbformat": 4,
 "nbformat_minor": 5
}
